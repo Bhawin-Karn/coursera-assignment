{
 "cells": [
  {
   "cell_type": "markdown",
   "id": "ca7b78e1-eb58-4bf1-ab67-4b809092934c",
   "metadata": {},
   "source": [
    "# Data Science Tools and Ecosystem"
   ]
  },
  {
   "cell_type": "markdown",
   "id": "93ee73b2-c360-45f7-948f-9ca24deede6f",
   "metadata": {},
   "source": [
    "In this notebook, Data Science Tools and Ecosystem are summarized."
   ]
  },
  {
   "cell_type": "markdown",
   "id": "3997e727-f0f3-4929-b082-d1a5bb1d3065",
   "metadata": {},
   "source": [
    "**Objective:**\n",
    "<ul>\n",
    "    <li>listing popular languages that data scientists use</li>\n",
    "    <li>listing common libraries that data scientists use</li>\n",
    "    <li>creating a table of data science tools</li>\n",
    "    <li>performing arithmetic operations</li>\n",
    "    <li>converting minutes into hours</li>\n",
    "</ul>"
   ]
  },
  {
   "cell_type": "markdown",
   "id": "7bfd6ae1-c051-4a2d-b91a-f0b50319ab74",
   "metadata": {},
   "source": [
    "Some of the popular languages that Data Scientists use are:\n",
    "<ol>   \n",
    "<li>Python</li>\n",
    "<li>R</li>\n",
    "<li>Scala</li>\n",
    "<li>SQL</li>\n",
    "<li>Java</li>\n",
    "</ol>"
   ]
  },
  {
   "cell_type": "markdown",
   "id": "bcd35bd8-8f78-4c9c-a726-602d7b7f9a69",
   "metadata": {},
   "source": [
    "Some of the commonly used libraries used by Data Scientists include:\n",
    "<ol>\n",
    "<li>Numpy</li>\n",
    "<li>Pandas</li>\n",
    "<li>Matplotlib</li>\n",
    "<li>Keras</li>\n",
    "<li>Tensorflow</li>\n",
    "</ol>\n"
   ]
  },
  {
   "cell_type": "markdown",
   "id": "5285c481-f89a-4f7b-ac49-3d1abaafce3a",
   "metadata": {},
   "source": [
    "| Data Science Tools |\n",
    "|--------------------|\n",
    "| Jupyter Notebook |\n",
    "| Rstudio |\n",
    "| Spyder |\n"
   ]
  },
  {
   "cell_type": "markdown",
   "id": "d682ca2a-5254-45e5-be5f-86a7a1dc3fad",
   "metadata": {},
   "source": [
    "### Below are a few examples of evaluating arithmetic expressions in Python"
   ]
  },
  {
   "cell_type": "code",
   "execution_count": 22,
   "id": "37e8961a-4b3a-4fcf-a81f-af8cbaed6cbd",
   "metadata": {},
   "outputs": [
    {
     "data": {
      "text/plain": [
       "17"
      ]
     },
     "execution_count": 22,
     "metadata": {},
     "output_type": "execute_result"
    }
   ],
   "source": [
    "# This a simple arithmetic expression to mutiply then add integers.\n",
    "(3*4)+5"
   ]
  },
  {
   "cell_type": "code",
   "execution_count": 24,
   "id": "cc8050a6-37aa-465b-b6ed-73df4c2a4e92",
   "metadata": {},
   "outputs": [
    {
     "data": {
      "text/plain": [
       "3.3333333333333335"
      ]
     },
     "execution_count": 24,
     "metadata": {},
     "output_type": "execute_result"
    }
   ],
   "source": [
    "# This will convert 200 minutes to hours by diving by 60.\n",
    "200/60"
   ]
  },
  {
   "cell_type": "markdown",
   "id": "1b9e38bf-18a6-487c-850a-5d63317d0a4a",
   "metadata": {},
   "source": [
    "## Author<br> \n",
    "Bhawin Karn"
   ]
  }
 ],
 "metadata": {
  "kernelspec": {
   "display_name": "Python 3 (ipykernel)",
   "language": "python",
   "name": "python3"
  },
  "language_info": {
   "codemirror_mode": {
    "name": "ipython",
    "version": 3
   },
   "file_extension": ".py",
   "mimetype": "text/x-python",
   "name": "python",
   "nbconvert_exporter": "python",
   "pygments_lexer": "ipython3",
   "version": "3.12.4"
  }
 },
 "nbformat": 4,
 "nbformat_minor": 5
}
